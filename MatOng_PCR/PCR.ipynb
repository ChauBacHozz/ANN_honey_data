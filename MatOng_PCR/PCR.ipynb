{
 "cells": [
  {
   "cell_type": "markdown",
   "id": "5a016e65",
   "metadata": {},
   "source": [
    "### Import data and libraries"
   ]
  },
  {
   "cell_type": "code",
   "execution_count": 1,
   "id": "8336af28",
   "metadata": {},
   "outputs": [],
   "source": [
    "import numpy as np\n",
    "import pickle\n",
    "import pandas as pd\n",
    "import matplotlib.pyplot as plt\n",
    "from sklearn.preprocessing import scale \n",
    "from sklearn.linear_model import LinearRegression, Ridge, RidgeCV, Lasso, LassoCV\n",
    "from sklearn.model_selection import KFold, cross_val_score, train_test_split\n",
    "from sklearn.metrics import mean_squared_error\n",
    "from sklearn.decomposition import PCA\n",
    "from sklearn.metrics import r2_score"
   ]
  },
  {
   "attachments": {},
   "cell_type": "markdown",
   "id": "d6c4a18f",
   "metadata": {},
   "source": [
    "### DATA PREPARATION "
   ]
  },
  {
   "cell_type": "code",
   "execution_count": 2,
   "id": "b4ef0d70",
   "metadata": {},
   "outputs": [
    {
     "data": {
      "text/html": [
       "<div>\n",
       "<style scoped>\n",
       "    .dataframe tbody tr th:only-of-type {\n",
       "        vertical-align: middle;\n",
       "    }\n",
       "\n",
       "    .dataframe tbody tr th {\n",
       "        vertical-align: top;\n",
       "    }\n",
       "\n",
       "    .dataframe thead th {\n",
       "        text-align: right;\n",
       "    }\n",
       "</style>\n",
       "<table border=\"1\" class=\"dataframe\">\n",
       "  <thead>\n",
       "    <tr style=\"text-align: right;\">\n",
       "      <th></th>\n",
       "      <th>Unnamed: 0</th>\n",
       "      <th>0</th>\n",
       "      <th>1</th>\n",
       "      <th>2</th>\n",
       "      <th>3</th>\n",
       "      <th>4</th>\n",
       "      <th>5</th>\n",
       "      <th>6</th>\n",
       "      <th>7</th>\n",
       "      <th>8</th>\n",
       "      <th>...</th>\n",
       "      <th>32758</th>\n",
       "      <th>32759</th>\n",
       "      <th>32760</th>\n",
       "      <th>32761</th>\n",
       "      <th>32762</th>\n",
       "      <th>32763</th>\n",
       "      <th>32764</th>\n",
       "      <th>32765</th>\n",
       "      <th>32766</th>\n",
       "      <th>32767</th>\n",
       "    </tr>\n",
       "  </thead>\n",
       "  <tbody>\n",
       "    <tr>\n",
       "      <th>0</th>\n",
       "      <td>Cà phê - Keo</td>\n",
       "      <td>276680</td>\n",
       "      <td>282074</td>\n",
       "      <td>262814</td>\n",
       "      <td>274124</td>\n",
       "      <td>257009</td>\n",
       "      <td>246744</td>\n",
       "      <td>258313</td>\n",
       "      <td>249312</td>\n",
       "      <td>244081</td>\n",
       "      <td>...</td>\n",
       "      <td>-61679</td>\n",
       "      <td>-64809</td>\n",
       "      <td>-44008</td>\n",
       "      <td>-59535</td>\n",
       "      <td>-48110</td>\n",
       "      <td>-50369</td>\n",
       "      <td>-37185</td>\n",
       "      <td>-49298</td>\n",
       "      <td>-33806</td>\n",
       "      <td>-33171</td>\n",
       "    </tr>\n",
       "    <tr>\n",
       "      <th>1</th>\n",
       "      <td>Lẩu Mật ong</td>\n",
       "      <td>375042</td>\n",
       "      <td>378932</td>\n",
       "      <td>392569</td>\n",
       "      <td>384884</td>\n",
       "      <td>341420</td>\n",
       "      <td>375224</td>\n",
       "      <td>358159</td>\n",
       "      <td>377123</td>\n",
       "      <td>364922</td>\n",
       "      <td>...</td>\n",
       "      <td>165789</td>\n",
       "      <td>156325</td>\n",
       "      <td>182297</td>\n",
       "      <td>202128</td>\n",
       "      <td>189209</td>\n",
       "      <td>159940</td>\n",
       "      <td>197481</td>\n",
       "      <td>166932</td>\n",
       "      <td>209883</td>\n",
       "      <td>210335</td>\n",
       "    </tr>\n",
       "    <tr>\n",
       "      <th>2</th>\n",
       "      <td>M1</td>\n",
       "      <td>274081</td>\n",
       "      <td>265869</td>\n",
       "      <td>264909</td>\n",
       "      <td>256522</td>\n",
       "      <td>249147</td>\n",
       "      <td>271565</td>\n",
       "      <td>255143</td>\n",
       "      <td>256080</td>\n",
       "      <td>249425</td>\n",
       "      <td>...</td>\n",
       "      <td>-46664</td>\n",
       "      <td>-41674</td>\n",
       "      <td>-51701</td>\n",
       "      <td>-39064</td>\n",
       "      <td>-47499</td>\n",
       "      <td>-38501</td>\n",
       "      <td>-48589</td>\n",
       "      <td>-26356</td>\n",
       "      <td>-15331</td>\n",
       "      <td>-31098</td>\n",
       "    </tr>\n",
       "    <tr>\n",
       "      <th>3</th>\n",
       "      <td>M2</td>\n",
       "      <td>144523</td>\n",
       "      <td>140970</td>\n",
       "      <td>148110</td>\n",
       "      <td>160950</td>\n",
       "      <td>162910</td>\n",
       "      <td>146215</td>\n",
       "      <td>143320</td>\n",
       "      <td>138214</td>\n",
       "      <td>142995</td>\n",
       "      <td>...</td>\n",
       "      <td>113810</td>\n",
       "      <td>102625</td>\n",
       "      <td>97814</td>\n",
       "      <td>125825</td>\n",
       "      <td>105482</td>\n",
       "      <td>99835</td>\n",
       "      <td>92555</td>\n",
       "      <td>109195</td>\n",
       "      <td>120314</td>\n",
       "      <td>116358</td>\n",
       "    </tr>\n",
       "    <tr>\n",
       "      <th>4</th>\n",
       "      <td>M3</td>\n",
       "      <td>158108</td>\n",
       "      <td>183212</td>\n",
       "      <td>195281</td>\n",
       "      <td>177675</td>\n",
       "      <td>184293</td>\n",
       "      <td>198710</td>\n",
       "      <td>183120</td>\n",
       "      <td>175189</td>\n",
       "      <td>173775</td>\n",
       "      <td>...</td>\n",
       "      <td>73479</td>\n",
       "      <td>77319</td>\n",
       "      <td>86290</td>\n",
       "      <td>80860</td>\n",
       "      <td>93340</td>\n",
       "      <td>80050</td>\n",
       "      <td>79605</td>\n",
       "      <td>76033</td>\n",
       "      <td>94079</td>\n",
       "      <td>86529</td>\n",
       "    </tr>\n",
       "  </tbody>\n",
       "</table>\n",
       "<p>5 rows × 32769 columns</p>\n",
       "</div>"
      ],
      "text/plain": [
       "     Unnamed: 0       0       1       2       3       4       5       6  \\\n",
       "0  Cà phê - Keo  276680  282074  262814  274124  257009  246744  258313   \n",
       "1   Lẩu Mật ong  375042  378932  392569  384884  341420  375224  358159   \n",
       "2            M1  274081  265869  264909  256522  249147  271565  255143   \n",
       "3            M2  144523  140970  148110  160950  162910  146215  143320   \n",
       "4            M3  158108  183212  195281  177675  184293  198710  183120   \n",
       "\n",
       "        7       8  ...   32758   32759   32760   32761   32762   32763  \\\n",
       "0  249312  244081  ...  -61679  -64809  -44008  -59535  -48110  -50369   \n",
       "1  377123  364922  ...  165789  156325  182297  202128  189209  159940   \n",
       "2  256080  249425  ...  -46664  -41674  -51701  -39064  -47499  -38501   \n",
       "3  138214  142995  ...  113810  102625   97814  125825  105482   99835   \n",
       "4  175189  173775  ...   73479   77319   86290   80860   93340   80050   \n",
       "\n",
       "    32764   32765   32766   32767  \n",
       "0  -37185  -49298  -33806  -33171  \n",
       "1  197481  166932  209883  210335  \n",
       "2  -48589  -26356  -15331  -31098  \n",
       "3   92555  109195  120314  116358  \n",
       "4   79605   76033   94079   86529  \n",
       "\n",
       "[5 rows x 32769 columns]"
      ]
     },
     "execution_count": 2,
     "metadata": {},
     "output_type": "execute_result"
    }
   ],
   "source": [
    "df = pd.read_csv('Dulieumatong_T.csv')\n",
    "df.head()"
   ]
  },
  {
   "cell_type": "code",
   "execution_count": 3,
   "id": "3c1177c4",
   "metadata": {},
   "outputs": [
    {
     "data": {
      "text/html": [
       "<div>\n",
       "<style scoped>\n",
       "    .dataframe tbody tr th:only-of-type {\n",
       "        vertical-align: middle;\n",
       "    }\n",
       "\n",
       "    .dataframe tbody tr th {\n",
       "        vertical-align: top;\n",
       "    }\n",
       "\n",
       "    .dataframe thead th {\n",
       "        text-align: right;\n",
       "    }\n",
       "</style>\n",
       "<table border=\"1\" class=\"dataframe\">\n",
       "  <thead>\n",
       "    <tr style=\"text-align: right;\">\n",
       "      <th></th>\n",
       "      <th>Unnamed: 0</th>\n",
       "    </tr>\n",
       "  </thead>\n",
       "  <tbody>\n",
       "    <tr>\n",
       "      <th>0</th>\n",
       "      <td>Cà phê - Keo</td>\n",
       "    </tr>\n",
       "    <tr>\n",
       "      <th>1</th>\n",
       "      <td>Lẩu Mật ong</td>\n",
       "    </tr>\n",
       "    <tr>\n",
       "      <th>2</th>\n",
       "      <td>M1</td>\n",
       "    </tr>\n",
       "    <tr>\n",
       "      <th>3</th>\n",
       "      <td>M2</td>\n",
       "    </tr>\n",
       "    <tr>\n",
       "      <th>4</th>\n",
       "      <td>M3</td>\n",
       "    </tr>\n",
       "    <tr>\n",
       "      <th>...</th>\n",
       "      <td>...</td>\n",
       "    </tr>\n",
       "    <tr>\n",
       "      <th>57</th>\n",
       "      <td>MR5</td>\n",
       "    </tr>\n",
       "    <tr>\n",
       "      <th>58</th>\n",
       "      <td>MR6</td>\n",
       "    </tr>\n",
       "    <tr>\n",
       "      <th>59</th>\n",
       "      <td>MR11</td>\n",
       "    </tr>\n",
       "    <tr>\n",
       "      <th>60</th>\n",
       "      <td>T2.1</td>\n",
       "    </tr>\n",
       "    <tr>\n",
       "      <th>61</th>\n",
       "      <td>Tua Xín Chảo</td>\n",
       "    </tr>\n",
       "  </tbody>\n",
       "</table>\n",
       "<p>62 rows × 1 columns</p>\n",
       "</div>"
      ],
      "text/plain": [
       "      Unnamed: 0\n",
       "0   Cà phê - Keo\n",
       "1    Lẩu Mật ong\n",
       "2             M1\n",
       "3             M2\n",
       "4             M3\n",
       "..           ...\n",
       "57           MR5\n",
       "58           MR6\n",
       "59          MR11\n",
       "60          T2.1\n",
       "61  Tua Xín Chảo\n",
       "\n",
       "[62 rows x 1 columns]"
      ]
     },
     "execution_count": 3,
     "metadata": {},
     "output_type": "execute_result"
    }
   ],
   "source": [
    "y = df.iloc[:, 0]\n",
    "pd.DataFrame(y)"
   ]
  },
  {
   "cell_type": "code",
   "execution_count": 4,
   "id": "11c7be7d",
   "metadata": {},
   "outputs": [
    {
     "data": {
      "text/plain": [
       "array([20, 21, 22, 23, 24, 25, 26, 27, 28, 29, 34, 35, 36, 37, 38, 39, 30,\n",
       "       31, 32, 33, 40,  5,  6,  7,  8,  0,  1,  2,  3,  4, 61, 58,  9, 12,\n",
       "       13, 14, 15, 16, 17, 18, 19, 10, 11, 42, 41, 43, 44, 45, 46, 57, 47,\n",
       "       48, 49, 50, 52, 53, 54, 55, 56, 51, 59, 60])"
      ]
     },
     "execution_count": 4,
     "metadata": {},
     "output_type": "execute_result"
    }
   ],
   "source": [
    "from sklearn import preprocessing\n",
    "\n",
    "# label_encoder object knows \n",
    "# how to understand word labels.\n",
    "label_encoder = preprocessing.LabelEncoder()\n",
    "  \n",
    "# Encode labels in column 'species'.\n",
    "label= label_encoder.fit_transform(y)\n",
    "  \n",
    "label"
   ]
  },
  {
   "cell_type": "code",
   "execution_count": 5,
   "metadata": {},
   "outputs": [],
   "source": [
    "data = df.iloc[:, 1:]"
   ]
  },
  {
   "cell_type": "code",
   "execution_count": 6,
   "id": "c1be0b48",
   "metadata": {},
   "outputs": [],
   "source": [
    "# scaled_data = data / 100000000000\n",
    "# print(np.min(scaled_data))\n",
    "# print(np.max(scaled_data))"
   ]
  },
  {
   "cell_type": "code",
   "execution_count": 7,
   "id": "e7cda642",
   "metadata": {},
   "outputs": [],
   "source": [
    "from sklearn import preprocessing\n",
    "# Get column names first\n",
    "names = data.columns\n",
    "scaler = preprocessing.StandardScaler()\n",
    "scaled_data = scaler.fit_transform(data)"
   ]
  },
  {
   "cell_type": "code",
   "execution_count": 8,
   "id": "d1c469d3",
   "metadata": {},
   "outputs": [],
   "source": [
    "# # Run standardization on X variables\n",
    "# from sklearn.preprocessing import scale \n",
    "# scaled_data = data / 100000000000\n",
    "# scaled_data = scale(data)"
   ]
  },
  {
   "cell_type": "markdown",
   "id": "5e230eef",
   "metadata": {},
   "source": [
    "___\n",
    "### Principal Components Regression"
   ]
  },
  {
   "cell_type": "markdown",
   "id": "a742cc4a",
   "metadata": {},
   "source": [
    "#### Evaluate for different number of principal components"
   ]
  },
  {
   "cell_type": "code",
   "execution_count": 9,
   "id": "900cf52f",
   "metadata": {},
   "outputs": [],
   "source": [
    "rmse_list = []\n",
    "R2_list = []"
   ]
  },
  {
   "cell_type": "code",
   "execution_count": 10,
   "id": "876ec69f",
   "metadata": {},
   "outputs": [],
   "source": [
    "# First generate all the principal components\n",
    "pca = PCA()\n",
    "data2 = pca.fit_transform(scaled_data)\n",
    "data2 = pd.DataFrame(data2)\n",
    "data2.to_excel(\"PCA40_data.xlsx\")"
   ]
  },
  {
   "cell_type": "code",
   "execution_count": 11,
   "id": "f9e737d4",
   "metadata": {},
   "outputs": [
    {
     "data": {
      "image/png": "[encoded data removed]",
      "text/plain": [
       "<Figure size 432x288 with 1 Axes>"
      ]
     },
     "metadata": {
      "needs_background": "light"
     },
     "output_type": "display_data"
    }
   ],
   "source": [
    "explained_variance = pca.explained_variance_ratio_\n",
    "plt.plot(np.arange(1, len(explained_variance) + 1), explained_variance, marker='o')\n",
    "plt.xlabel('Number of Components')\n",
    "plt.ylabel('Explained Variance')\n",
    "plt.title('Scree Plot')\n",
    "plt.show()"
   ]
  },
  {
   "cell_type": "code",
   "execution_count": 12,
   "id": "00ad777f",
   "metadata": {},
   "outputs": [
    {
     "data": {
      "image/png": "[encoded data removed]",
      "text/plain": [
       "<Figure size 432x288 with 1 Axes>"
      ]
     },
     "metadata": {
      "needs_background": "light"
     },
     "output_type": "display_data"
    }
   ],
   "source": [
    "cumulative_explained_variance = np.cumsum(explained_variance)\n",
    "plt.plot(np.arange(1, len(cumulative_explained_variance) + 1), cumulative_explained_variance, marker='o')\n",
    "plt.xlabel('Number of Components')\n",
    "plt.ylabel('Cumulative Explained Variance')\n",
    "plt.title('Cumulative Explained Variance')\n",
    "plt.show()"
   ]
  },
  {
   "cell_type": "code",
   "execution_count": 13,
   "id": "35f8c660",
   "metadata": {},
   "outputs": [
    {
     "ename": "KeyError",
     "evalue": "(slice(None, None, None), 0)",
     "output_type": "error",
     "traceback": [
      "\u001b[1;31m---------------------------------------------------------------------------\u001b[0m",
      "\u001b[1;31mKeyError\u001b[0m                                  Traceback (most recent call last)",
      "\u001b[1;32mc:\\VS_Workspace\\MatOng_PCR\\PCR.ipynb Cell 17\u001b[0m in \u001b[0;36m<cell line: 4>\u001b[1;34m()\u001b[0m\n\u001b[0;32m      <a href='vscode-notebook-cell:/c%3A/VS_Workspace/MatOng_PCR/PCR.ipynb#X22sZmlsZQ%3D%3D?line=1'>2</a>\u001b[0m fig \u001b[39m=\u001b[39m plt\u001b[39m.\u001b[39mfigure(figsize\u001b[39m=\u001b[39m(\u001b[39m10\u001b[39m, \u001b[39m8\u001b[39m))\n\u001b[0;32m      <a href='vscode-notebook-cell:/c%3A/VS_Workspace/MatOng_PCR/PCR.ipynb#X22sZmlsZQ%3D%3D?line=2'>3</a>\u001b[0m ax \u001b[39m=\u001b[39m fig\u001b[39m.\u001b[39madd_subplot(\u001b[39m111\u001b[39m, projection\u001b[39m=\u001b[39m\u001b[39m'\u001b[39m\u001b[39m3d\u001b[39m\u001b[39m'\u001b[39m)\n\u001b[1;32m----> <a href='vscode-notebook-cell:/c%3A/VS_Workspace/MatOng_PCR/PCR.ipynb#X22sZmlsZQ%3D%3D?line=3'>4</a>\u001b[0m ax\u001b[39m.\u001b[39mscatter(data2[:, \u001b[39m0\u001b[39;49m], data2[:, \u001b[39m1\u001b[39m], data2[:, \u001b[39m2\u001b[39m], c\u001b[39m=\u001b[39mlabel, cmap\u001b[39m=\u001b[39m\u001b[39m'\u001b[39m\u001b[39mviridis\u001b[39m\u001b[39m'\u001b[39m, edgecolors\u001b[39m=\u001b[39m\u001b[39m'\u001b[39m\u001b[39mk\u001b[39m\u001b[39m'\u001b[39m)\n\u001b[0;32m      <a href='vscode-notebook-cell:/c%3A/VS_Workspace/MatOng_PCR/PCR.ipynb#X22sZmlsZQ%3D%3D?line=4'>5</a>\u001b[0m ax\u001b[39m.\u001b[39mset_xlabel(\u001b[39m'\u001b[39m\u001b[39mPrincipal Component 1\u001b[39m\u001b[39m'\u001b[39m)\n\u001b[0;32m      <a href='vscode-notebook-cell:/c%3A/VS_Workspace/MatOng_PCR/PCR.ipynb#X22sZmlsZQ%3D%3D?line=5'>6</a>\u001b[0m ax\u001b[39m.\u001b[39mset_ylabel(\u001b[39m'\u001b[39m\u001b[39mPrincipal Component 2\u001b[39m\u001b[39m'\u001b[39m)\n",
      "File \u001b[1;32mc:\\Users\\84866\\AppData\\Local\\Programs\\Python\\Python310\\lib\\site-packages\\pandas\\core\\frame.py:3458\u001b[0m, in \u001b[0;36mDataFrame.__getitem__\u001b[1;34m(self, key)\u001b[0m\n\u001b[0;32m   3456\u001b[0m \u001b[39mif\u001b[39;00m \u001b[39mself\u001b[39m\u001b[39m.\u001b[39mcolumns\u001b[39m.\u001b[39mnlevels \u001b[39m>\u001b[39m \u001b[39m1\u001b[39m:\n\u001b[0;32m   3457\u001b[0m     \u001b[39mreturn\u001b[39;00m \u001b[39mself\u001b[39m\u001b[39m.\u001b[39m_getitem_multilevel(key)\n\u001b[1;32m-> 3458\u001b[0m indexer \u001b[39m=\u001b[39m \u001b[39mself\u001b[39;49m\u001b[39m.\u001b[39;49mcolumns\u001b[39m.\u001b[39;49mget_loc(key)\n\u001b[0;32m   3459\u001b[0m \u001b[39mif\u001b[39;00m is_integer(indexer):\n\u001b[0;32m   3460\u001b[0m     indexer \u001b[39m=\u001b[39m [indexer]\n",
      "File \u001b[1;32mc:\\Users\\84866\\AppData\\Local\\Programs\\Python\\Python310\\lib\\site-packages\\pandas\\core\\indexes\\range.py:388\u001b[0m, in \u001b[0;36mRangeIndex.get_loc\u001b[1;34m(self, key, method, tolerance)\u001b[0m\n\u001b[0;32m    386\u001b[0m         \u001b[39mexcept\u001b[39;00m \u001b[39mValueError\u001b[39;00m \u001b[39mas\u001b[39;00m err:\n\u001b[0;32m    387\u001b[0m             \u001b[39mraise\u001b[39;00m \u001b[39mKeyError\u001b[39;00m(key) \u001b[39mfrom\u001b[39;00m \u001b[39merr\u001b[39;00m\n\u001b[1;32m--> 388\u001b[0m     \u001b[39mraise\u001b[39;00m \u001b[39mKeyError\u001b[39;00m(key)\n\u001b[0;32m    389\u001b[0m \u001b[39mreturn\u001b[39;00m \u001b[39msuper\u001b[39m()\u001b[39m.\u001b[39mget_loc(key, method\u001b[39m=\u001b[39mmethod, tolerance\u001b[39m=\u001b[39mtolerance)\n",
      "\u001b[1;31mKeyError\u001b[0m: (slice(None, None, None), 0)"
     ]
    },
    {
     "data": {
      "image/png": "[encoded data removed]",
      "text/plain": [
       "<Figure size 720x576 with 1 Axes>"
      ]
     },
     "metadata": {
      "needs_background": "light"
     },
     "output_type": "display_data"
    }
   ],
   "source": [
    "from mpl_toolkits.mplot3d import Axes3D\n",
    "fig = plt.figure(figsize=(10, 8))\n",
    "ax = fig.add_subplot(111, projection='3d')\n",
    "ax.scatter(data2[:, 0], data2[:, 1], data2[:, 2], c=label, cmap='viridis', edgecolors='k')\n",
    "ax.set_xlabel('Principal Component 1')\n",
    "ax.set_ylabel('Principal Component 2')\n",
    "ax.set_zlabel('Principal Component 3')\n",
    "ax.set_title('Scatter plot of the first three Principal Components')\n",
    "plt.show()"
   ]
  },
  {
   "cell_type": "code",
   "execution_count": null,
   "id": "e7c5afa5",
   "metadata": {},
   "outputs": [],
   "source": [
    "from sklearn.cluster import KMeans\n",
    "data3 = pca.fit_transform(scaled_data)\n",
    "#Initialize the class object\n",
    "kmeans = KMeans(n_clusters= 4)\n",
    " \n",
    "#predict the labels of clusters.\n",
    "label = kmeans.fit_predict(data3)\n",
    " \n",
    "# pd.DataFrame(label).to_excel(\"labels.xlsx\")"
   ]
  },
  {
   "cell_type": "code",
   "execution_count": null,
   "id": "c3632883",
   "metadata": {},
   "outputs": [],
   "source": [
    "df.iloc[:, 0] = label"
   ]
  },
  {
   "cell_type": "code",
   "execution_count": null,
   "id": "0eda7829",
   "metadata": {},
   "outputs": [],
   "source": [
    "df.to_csv(\"Matong_data.csv\")"
   ]
  },
  {
   "cell_type": "code",
   "execution_count": null,
   "id": "aa1349bf",
   "metadata": {},
   "outputs": [
    {
     "data": {
      "image/png": "[encoded data removed]",
      "text/plain": [
       "<Figure size 432x288 with 1 Axes>"
      ]
     },
     "metadata": {
      "needs_background": "light"
     },
     "output_type": "display_data"
    }
   ],
   "source": [
    "import matplotlib.pyplot as plt\n",
    " \n",
    "#filter rows of original data\n",
    "filtered_label0 = data3[label ==4]\n",
    " \n",
    "#plotting the results\n",
    "plt.scatter(filtered_label0[:,0] , filtered_label0[:,1])\n",
    "plt.show()"
   ]
  },
  {
   "cell_type": "code",
   "execution_count": null,
   "id": "8e4f1d51",
   "metadata": {},
   "outputs": [
    {
     "data": {
      "image/png": "[encoded data removed]",
      "text/plain": [
       "<Figure size 432x288 with 1 Axes>"
      ]
     },
     "metadata": {
      "needs_background": "light"
     },
     "output_type": "display_data"
    }
   ],
   "source": [
    "u_labels = np.unique(label)\n",
    " \n",
    "#plotting the results:\n",
    " \n",
    "for i in u_labels:\n",
    "    plt.scatter(data3[label == i , 0] , data3[label == i , 1] , label = i)\n",
    "plt.legend()\n",
    "plt.show()"
   ]
  },
  {
   "cell_type": "code",
   "execution_count": null,
   "id": "7eb75aad",
   "metadata": {},
   "outputs": [
    {
     "ename": "NameError",
     "evalue": "name 'X_train_pc' is not defined",
     "output_type": "error",
     "traceback": [
      "\u001b[1;31m---------------------------------------------------------------------------\u001b[0m",
      "\u001b[1;31mNameError\u001b[0m                                 Traceback (most recent call last)",
      "\u001b[1;32mc:\\VS_Workspace\\MatOng_PCR\\PCR.ipynb Cell 21\u001b[0m in \u001b[0;36m<cell line: 2>\u001b[1;34m()\u001b[0m\n\u001b[0;32m      <a href='vscode-notebook-cell:/c%3A/VS_Workspace/MatOng_PCR/PCR.ipynb#X21sZmlsZQ%3D%3D?line=0'>1</a>\u001b[0m \u001b[39m# Loop through different count of principal components for linear regression\u001b[39;00m\n\u001b[1;32m----> <a href='vscode-notebook-cell:/c%3A/VS_Workspace/MatOng_PCR/PCR.ipynb#X21sZmlsZQ%3D%3D?line=1'>2</a>\u001b[0m \u001b[39mfor\u001b[39;00m i \u001b[39min\u001b[39;00m \u001b[39mrange\u001b[39m(\u001b[39m1\u001b[39m, X_train_pc\u001b[39m.\u001b[39mshape[\u001b[39m1\u001b[39m]\u001b[39m+\u001b[39m\u001b[39m1\u001b[39m):\n\u001b[0;32m      <a href='vscode-notebook-cell:/c%3A/VS_Workspace/MatOng_PCR/PCR.ipynb#X21sZmlsZQ%3D%3D?line=2'>3</a>\u001b[0m     \u001b[39m# rmse_score = -1 * cross_val_score(lin_reg, \u001b[39;00m\n\u001b[0;32m      <a href='vscode-notebook-cell:/c%3A/VS_Workspace/MatOng_PCR/PCR.ipynb#X21sZmlsZQ%3D%3D?line=3'>4</a>\u001b[0m     \u001b[39m#                                   X_train_pc[:,:i], # Use first k principal components\u001b[39;00m\n\u001b[0;32m      <a href='vscode-notebook-cell:/c%3A/VS_Workspace/MatOng_PCR/PCR.ipynb#X21sZmlsZQ%3D%3D?line=4'>5</a>\u001b[0m     \u001b[39m#                                   y_train, \u001b[39;00m\n\u001b[0;32m      <a href='vscode-notebook-cell:/c%3A/VS_Workspace/MatOng_PCR/PCR.ipynb#X21sZmlsZQ%3D%3D?line=5'>6</a>\u001b[0m     \u001b[39m#                                   cv=cv, \u001b[39;00m\n\u001b[0;32m      <a href='vscode-notebook-cell:/c%3A/VS_Workspace/MatOng_PCR/PCR.ipynb#X21sZmlsZQ%3D%3D?line=6'>7</a>\u001b[0m     \u001b[39m#                                   scoring='neg_mean_squared_error').mean()\u001b[39;00m\n\u001b[0;32m      <a href='vscode-notebook-cell:/c%3A/VS_Workspace/MatOng_PCR/PCR.ipynb#X21sZmlsZQ%3D%3D?line=7'>8</a>\u001b[0m     \u001b[39m# rmse_list.append(rmse_score)\u001b[39;00m\n\u001b[0;32m      <a href='vscode-notebook-cell:/c%3A/VS_Workspace/MatOng_PCR/PCR.ipynb#X21sZmlsZQ%3D%3D?line=8'>9</a>\u001b[0m     lin_reg \u001b[39m=\u001b[39m LinearRegression()\n\u001b[0;32m     <a href='vscode-notebook-cell:/c%3A/VS_Workspace/MatOng_PCR/PCR.ipynb#X21sZmlsZQ%3D%3D?line=9'>10</a>\u001b[0m     lin_reg\u001b[39m.\u001b[39mfit(X_train_pc[:, :i], y_train)\n",
      "\u001b[1;31mNameError\u001b[0m: name 'X_train_pc' is not defined"
     ]
    }
   ],
   "source": [
    "# Loop through different count of principal components for linear regression\n",
    "for i in range(1, X_train_pc.shape[1]+1):\n",
    "    # rmse_score = -1 * cross_val_score(lin_reg, \n",
    "    #                                   X_train_pc[:,:i], # Use first k principal components\n",
    "    #                                   y_train, \n",
    "    #                                   cv=cv, \n",
    "    #                                   scoring='neg_mean_squared_error').mean()\n",
    "    # rmse_list.append(rmse_score)\n",
    "    lin_reg = LinearRegression()\n",
    "    lin_reg.fit(X_train_pc[:, :i], y_train)\n",
    "    y_pred = lin_reg.predict(X_train_pc[:, :i])\n",
    "    rmse_list.append(np.sqrt(np.sum(np.square(y_pred - y_train), axis=0) / y_train.shape[0]))\n",
    "    R2_list.append(r2_score(y_train, y_pred))"
   ]
  },
  {
   "cell_type": "code",
   "execution_count": null,
   "id": "04b6abd6",
   "metadata": {},
   "outputs": [
    {
     "data": {
      "text/plain": [
       "(0,)"
      ]
     },
     "execution_count": 17,
     "metadata": {},
     "output_type": "execute_result"
    }
   ],
   "source": [
    "rmse_list=np.array(rmse_list)\n",
    "R2_list = np.array(R2_list).reshape(-1,1)\n",
    "rmse_list.shape"
   ]
  },
  {
   "cell_type": "code",
   "execution_count": null,
   "id": "138523e5",
   "metadata": {},
   "outputs": [
    {
     "data": {
      "text/plain": [
       "(0, 1)"
      ]
     },
     "execution_count": 18,
     "metadata": {},
     "output_type": "execute_result"
    }
   ],
   "source": [
    "R2_list[6:,:].shape"
   ]
  },
  {
   "cell_type": "code",
   "execution_count": null,
   "id": "5958066d",
   "metadata": {},
   "outputs": [
    {
     "ename": "ValueError",
     "evalue": "x and y must have same first dimension, but have shapes (25,) and (0, 1)",
     "output_type": "error",
     "traceback": [
      "\u001b[1;31m---------------------------------------------------------------------------\u001b[0m",
      "\u001b[1;31mValueError\u001b[0m                                Traceback (most recent call last)",
      "\u001b[1;32mc:\\VS_Workspace\\MatOng_PCR\\PCR.ipynb Cell 19\u001b[0m in \u001b[0;36m<cell line: 1>\u001b[1;34m()\u001b[0m\n\u001b[1;32m----> <a href='vscode-notebook-cell:/c%3A/VS_Workspace/MatOng_PCR/PCR.ipynb#X24sZmlsZQ%3D%3D?line=0'>1</a>\u001b[0m plt\u001b[39m.\u001b[39;49mplot(np\u001b[39m.\u001b[39;49marange(\u001b[39m6\u001b[39;49m,\u001b[39m31\u001b[39;49m),R2_list[\u001b[39m6\u001b[39;49m:,:], \u001b[39m\"\u001b[39;49m\u001b[39m-o\u001b[39;49m\u001b[39m\"\u001b[39;49m, color \u001b[39m=\u001b[39;49m \u001b[39m\"\u001b[39;49m\u001b[39mblack\u001b[39;49m\u001b[39m\"\u001b[39;49m)\n\u001b[0;32m      <a href='vscode-notebook-cell:/c%3A/VS_Workspace/MatOng_PCR/PCR.ipynb#X24sZmlsZQ%3D%3D?line=1'>2</a>\u001b[0m plt\u001b[39m.\u001b[39mxticks(np\u001b[39m.\u001b[39marange(\u001b[39m6\u001b[39m,\u001b[39m32\u001b[39m, \u001b[39m5\u001b[39m))\n\u001b[0;32m      <a href='vscode-notebook-cell:/c%3A/VS_Workspace/MatOng_PCR/PCR.ipynb#X24sZmlsZQ%3D%3D?line=2'>3</a>\u001b[0m plt\u001b[39m.\u001b[39mxlabel(\u001b[39m\"\u001b[39m\u001b[39mNumber of PC\u001b[39m\u001b[39m\"\u001b[39m)\n",
      "File \u001b[1;32mc:\\Users\\84866\\AppData\\Local\\Programs\\Python\\Python310\\lib\\site-packages\\matplotlib\\pyplot.py:2769\u001b[0m, in \u001b[0;36mplot\u001b[1;34m(scalex, scaley, data, *args, **kwargs)\u001b[0m\n\u001b[0;32m   2767\u001b[0m \u001b[39m@_copy_docstring_and_deprecators\u001b[39m(Axes\u001b[39m.\u001b[39mplot)\n\u001b[0;32m   2768\u001b[0m \u001b[39mdef\u001b[39;00m \u001b[39mplot\u001b[39m(\u001b[39m*\u001b[39margs, scalex\u001b[39m=\u001b[39m\u001b[39mTrue\u001b[39;00m, scaley\u001b[39m=\u001b[39m\u001b[39mTrue\u001b[39;00m, data\u001b[39m=\u001b[39m\u001b[39mNone\u001b[39;00m, \u001b[39m*\u001b[39m\u001b[39m*\u001b[39mkwargs):\n\u001b[1;32m-> 2769\u001b[0m     \u001b[39mreturn\u001b[39;00m gca()\u001b[39m.\u001b[39mplot(\n\u001b[0;32m   2770\u001b[0m         \u001b[39m*\u001b[39margs, scalex\u001b[39m=\u001b[39mscalex, scaley\u001b[39m=\u001b[39mscaley,\n\u001b[0;32m   2771\u001b[0m         \u001b[39m*\u001b[39m\u001b[39m*\u001b[39m({\u001b[39m\"\u001b[39m\u001b[39mdata\u001b[39m\u001b[39m\"\u001b[39m: data} \u001b[39mif\u001b[39;00m data \u001b[39mis\u001b[39;00m \u001b[39mnot\u001b[39;00m \u001b[39mNone\u001b[39;00m \u001b[39melse\u001b[39;00m {}), \u001b[39m*\u001b[39m\u001b[39m*\u001b[39mkwargs)\n",
      "File \u001b[1;32mc:\\Users\\84866\\AppData\\Local\\Programs\\Python\\Python310\\lib\\site-packages\\matplotlib\\axes\\_axes.py:1632\u001b[0m, in \u001b[0;36mAxes.plot\u001b[1;34m(self, scalex, scaley, data, *args, **kwargs)\u001b[0m\n\u001b[0;32m   1390\u001b[0m \u001b[39m\"\"\"\u001b[39;00m\n\u001b[0;32m   1391\u001b[0m \u001b[39mPlot y versus x as lines and/or markers.\u001b[39;00m\n\u001b[0;32m   1392\u001b[0m \n\u001b[1;32m   (...)\u001b[0m\n\u001b[0;32m   1629\u001b[0m \u001b[39m(``'green'``) or hex strings (``'#008000'``).\u001b[39;00m\n\u001b[0;32m   1630\u001b[0m \u001b[39m\"\"\"\u001b[39;00m\n\u001b[0;32m   1631\u001b[0m kwargs \u001b[39m=\u001b[39m cbook\u001b[39m.\u001b[39mnormalize_kwargs(kwargs, mlines\u001b[39m.\u001b[39mLine2D)\n\u001b[1;32m-> 1632\u001b[0m lines \u001b[39m=\u001b[39m [\u001b[39m*\u001b[39m\u001b[39mself\u001b[39m\u001b[39m.\u001b[39m_get_lines(\u001b[39m*\u001b[39margs, data\u001b[39m=\u001b[39mdata, \u001b[39m*\u001b[39m\u001b[39m*\u001b[39mkwargs)]\n\u001b[0;32m   1633\u001b[0m \u001b[39mfor\u001b[39;00m line \u001b[39min\u001b[39;00m lines:\n\u001b[0;32m   1634\u001b[0m     \u001b[39mself\u001b[39m\u001b[39m.\u001b[39madd_line(line)\n",
      "File \u001b[1;32mc:\\Users\\84866\\AppData\\Local\\Programs\\Python\\Python310\\lib\\site-packages\\matplotlib\\axes\\_base.py:312\u001b[0m, in \u001b[0;36m_process_plot_var_args.__call__\u001b[1;34m(self, data, *args, **kwargs)\u001b[0m\n\u001b[0;32m    310\u001b[0m     this \u001b[39m+\u001b[39m\u001b[39m=\u001b[39m args[\u001b[39m0\u001b[39m],\n\u001b[0;32m    311\u001b[0m     args \u001b[39m=\u001b[39m args[\u001b[39m1\u001b[39m:]\n\u001b[1;32m--> 312\u001b[0m \u001b[39myield from\u001b[39;00m \u001b[39mself\u001b[39;49m\u001b[39m.\u001b[39;49m_plot_args(this, kwargs)\n",
      "File \u001b[1;32mc:\\Users\\84866\\AppData\\Local\\Programs\\Python\\Python310\\lib\\site-packages\\matplotlib\\axes\\_base.py:498\u001b[0m, in \u001b[0;36m_process_plot_var_args._plot_args\u001b[1;34m(self, tup, kwargs, return_kwargs)\u001b[0m\n\u001b[0;32m    495\u001b[0m     \u001b[39mself\u001b[39m\u001b[39m.\u001b[39maxes\u001b[39m.\u001b[39myaxis\u001b[39m.\u001b[39mupdate_units(y)\n\u001b[0;32m    497\u001b[0m \u001b[39mif\u001b[39;00m x\u001b[39m.\u001b[39mshape[\u001b[39m0\u001b[39m] \u001b[39m!=\u001b[39m y\u001b[39m.\u001b[39mshape[\u001b[39m0\u001b[39m]:\n\u001b[1;32m--> 498\u001b[0m     \u001b[39mraise\u001b[39;00m \u001b[39mValueError\u001b[39;00m(\u001b[39mf\u001b[39m\u001b[39m\"\u001b[39m\u001b[39mx and y must have same first dimension, but \u001b[39m\u001b[39m\"\u001b[39m\n\u001b[0;32m    499\u001b[0m                      \u001b[39mf\u001b[39m\u001b[39m\"\u001b[39m\u001b[39mhave shapes \u001b[39m\u001b[39m{\u001b[39;00mx\u001b[39m.\u001b[39mshape\u001b[39m}\u001b[39;00m\u001b[39m and \u001b[39m\u001b[39m{\u001b[39;00my\u001b[39m.\u001b[39mshape\u001b[39m}\u001b[39;00m\u001b[39m\"\u001b[39m)\n\u001b[0;32m    500\u001b[0m \u001b[39mif\u001b[39;00m x\u001b[39m.\u001b[39mndim \u001b[39m>\u001b[39m \u001b[39m2\u001b[39m \u001b[39mor\u001b[39;00m y\u001b[39m.\u001b[39mndim \u001b[39m>\u001b[39m \u001b[39m2\u001b[39m:\n\u001b[0;32m    501\u001b[0m     \u001b[39mraise\u001b[39;00m \u001b[39mValueError\u001b[39;00m(\u001b[39mf\u001b[39m\u001b[39m\"\u001b[39m\u001b[39mx and y can be no greater than 2D, but have \u001b[39m\u001b[39m\"\u001b[39m\n\u001b[0;32m    502\u001b[0m                      \u001b[39mf\u001b[39m\u001b[39m\"\u001b[39m\u001b[39mshapes \u001b[39m\u001b[39m{\u001b[39;00mx\u001b[39m.\u001b[39mshape\u001b[39m}\u001b[39;00m\u001b[39m and \u001b[39m\u001b[39m{\u001b[39;00my\u001b[39m.\u001b[39mshape\u001b[39m}\u001b[39;00m\u001b[39m\"\u001b[39m)\n",
      "\u001b[1;31mValueError\u001b[0m: x and y must have same first dimension, but have shapes (25,) and (0, 1)"
     ]
    },
    {
     "data": {
      "image/png": "[encoded data removed]",
      "text/plain": [
       "<Figure size 432x288 with 1 Axes>"
      ]
     },
     "metadata": {
      "needs_background": "light"
     },
     "output_type": "display_data"
    }
   ],
   "source": [
    "plt.plot(np.arange(6,31),R2_list[6:,:], \"-o\", color = \"black\")\n",
    "plt.xticks(np.arange(6,32, 5))\n",
    "plt.xlabel(\"Number of PC\")\n",
    "plt.ylabel(\"R square value\")\n",
    "plt.show()"
   ]
  },
  {
   "cell_type": "code",
   "execution_count": null,
   "id": "b2c4771c",
   "metadata": {
    "scrolled": true
   },
   "outputs": [
    {
     "data": {
      "image/png": "[encoded data removed]",
      "text/plain": [
       "<Figure size 432x288 with 1 Axes>"
      ]
     },
     "metadata": {
      "needs_background": "light"
     },
     "output_type": "display_data"
    }
   ],
   "source": [
    "# Plot RMSE vs count of principal components used\n",
    "plt.plot(rmse_list[:,0], '-^', label='Guaifenesin', color='black')\n",
    "plt.plot(rmse_list[:,1], '-o', label='Terbutaline Sulphate', color='black')\n",
    "plt.plot(rmse_list[:,2], '-s', label='Natri benzoate', color='black')\n",
    "plt.xlabel('Number of principal components in regression')\n",
    "plt.ylabel('Cross-Validation RMSE')\n",
    "plt.title('PCR')\n",
    "plt.xlim(xmin=-1)\n",
    "plt.xticks(np.arange(X_train_pc.shape[1], step=5), np.arange(1, X_train_pc.shape[1]+1, step=5))\n",
    "plt.legend()\n",
    "plt.show()"
   ]
  },
  {
   "cell_type": "code",
   "execution_count": null,
   "id": "8075d7d3",
   "metadata": {},
   "outputs": [
    {
     "data": {
      "image/png": "[encoded data removed]",
      "text/plain": [
       "<Figure size 432x288 with 1 Axes>"
      ]
     },
     "metadata": {
      "needs_background": "light"
     },
     "output_type": "display_data"
    }
   ],
   "source": [
    "# Plot RMSE vs count of principal components used\n",
    "plt.plot(np.arange(6, 31),rmse_list[6:,:], '-o')\n",
    "plt.plot(np.arange(6, 31),rmse_list[6:,0], '-o', label='Guaifenesin', color='red')\n",
    "plt.plot(np.arange(6, 31),rmse_list[6:,1], '-o', label='Terbutaline Sulphate', color='blue')\n",
    "plt.plot(np.arange(6, 31),rmse_list[6:,2], '-o', label='Natri benzoate', color='Green')\n",
    "plt.xlabel('Number of principal components in regression')\n",
    "plt.ylabel('Cross-Validation RMSE')\n",
    "plt.title('PCR')\n",
    "# plt.xticks(np.arange(6, 31, step=5))\n",
    "plt.legend()\n",
    "# plt.xticks(np.arange(X_train_pc.shape[1] - 6), np.arange(1, X_train_pc.shape[1] - 6))\n",
    "plt.show()"
   ]
  },
  {
   "cell_type": "code",
   "execution_count": null,
   "id": "45fa00ad",
   "metadata": {},
   "outputs": [],
   "source": [
    "rmse_list = rmse_list.mean(axis=1)"
   ]
  },
  {
   "cell_type": "code",
   "execution_count": null,
   "id": "22f7fed1",
   "metadata": {},
   "outputs": [
    {
     "data": {
      "text/plain": [
       "(0.10233513544248352, 30)"
      ]
     },
     "execution_count": 112,
     "metadata": {},
     "output_type": "execute_result"
    }
   ],
   "source": [
    "(value,min_index) = min((v,i) for i,v in enumerate(list(rmse_list)))\n",
    "value, min_index"
   ]
  },
  {
   "cell_type": "code",
   "execution_count": null,
   "id": "2496f10d",
   "metadata": {},
   "outputs": [],
   "source": [
    "# Visually determine optimal number of principal components\n",
    "best_pc_num = min_index + 1"
   ]
  },
  {
   "cell_type": "markdown",
   "id": "e3a5900b",
   "metadata": {},
   "source": [
    "#### Predict"
   ]
  },
  {
   "cell_type": "code",
   "execution_count": null,
   "id": "6ce87168",
   "metadata": {},
   "outputs": [],
   "source": [
    "# Train model on training set\n",
    "lin_reg_pc = LinearRegression().fit(X_train_pc[:,:best_pc_num], y_train)"
   ]
  },
  {
   "cell_type": "code",
   "execution_count": null,
   "id": "3b389700",
   "metadata": {},
   "outputs": [
    {
     "data": {
      "text/plain": [
       "0.9858404098088469"
      ]
     },
     "execution_count": 115,
     "metadata": {},
     "output_type": "execute_result"
    }
   ],
   "source": [
    "# R2 score\n",
    "lin_reg_pc.score(X_train_pc[:,:best_pc_num], y_train)"
   ]
  },
  {
   "cell_type": "code",
   "execution_count": null,
   "id": "2a98f2c7",
   "metadata": {},
   "outputs": [
    {
     "data": {
      "text/plain": [
       "(34, 31)"
      ]
     },
     "execution_count": 116,
     "metadata": {},
     "output_type": "execute_result"
    }
   ],
   "source": [
    "# Get principal components of test set\n",
    "X_test_pc = pca.transform(X_test_scaled)[:,:best_pc_num]\n",
    "X_test_pc.shape"
   ]
  },
  {
   "cell_type": "code",
   "execution_count": null,
   "id": "7b599740",
   "metadata": {},
   "outputs": [
    {
     "data": {
      "text/plain": [
       "0.14972984141834858"
      ]
     },
     "execution_count": 117,
     "metadata": {},
     "output_type": "execute_result"
    }
   ],
   "source": [
    "# Predict on test data\n",
    "PCR_preds = lin_reg_pc.predict(X_test_pc)\n",
    "pcr_score_test = np.sqrt(np.sum(np.square(PCR_preds - y_test), axis=0) / y_train.shape[0])\n",
    "pcr_score_test.mean()"
   ]
  },
  {
   "cell_type": "code",
   "execution_count": null,
   "id": "a3119668",
   "metadata": {},
   "outputs": [
    {
     "data": {
      "text/plain": [
       "0.8689620122984388"
      ]
     },
     "execution_count": 118,
     "metadata": {},
     "output_type": "execute_result"
    }
   ],
   "source": [
    "r2_score(y_test, PCR_preds)"
   ]
  },
  {
   "cell_type": "code",
   "execution_count": null,
   "id": "3f7ae5f0",
   "metadata": {},
   "outputs": [],
   "source": [
    "# preds = lin_reg_pc.predict(X_train_pc)\n",
    "# pcr_score_train = np.sqrt(np.sum(np.square(preds - y_test), axis=0) / y_train.shape[0])\n",
    "# pcr_score_train.mean()"
   ]
  },
  {
   "cell_type": "code",
   "execution_count": null,
   "id": "a692b285",
   "metadata": {},
   "outputs": [],
   "source": [
    "# mauthuoc = pd.read_excel(\"mauthuoc.xlsx\")\n",
    "# mauthuoc = scale(mauthuoc.iloc[:,1:].values)\n",
    "# mauthuoc = pca.fit_transform(mauthuoc)\n",
    "# # lin_reg_pc.predict(mauthuoc)\n",
    "# mauthuoc.shape"
   ]
  },
  {
   "attachments": {},
   "cell_type": "markdown",
   "id": "23e06aa8",
   "metadata": {},
   "source": [
    "## ANN IMPLEMENT"
   ]
  },
  {
   "cell_type": "code",
   "execution_count": null,
   "id": "c4724e0d",
   "metadata": {},
   "outputs": [],
   "source": [
    "X_train, X_val, y_train, y_val = train_test_split(X_train, y_train, test_size=0.2, random_state=42)\n",
    "X_train = X_train.T\n",
    "X_test = X_test.T\n",
    "y_train = y_train.T\n",
    "y_test = y_test.T\n",
    "X_val = X_val.T\n",
    "y_val = y_val.T\n"
   ]
  },
  {
   "cell_type": "code",
   "execution_count": null,
   "id": "e6fed18e",
   "metadata": {},
   "outputs": [],
   "source": [
    "# model = ANN_pkg_2.Neural_Network([X_train.shape[0],8, 8,y_train.shape[0]], ANN_pkg_2.ReLU, weights, bias)\n",
    "model = ANN_pkg_2.Neural_Network([X_train.shape[0],8, 8,y_train.shape[0]], ANN_pkg_2.ReLU)"
   ]
  },
  {
   "cell_type": "code",
   "execution_count": null,
   "id": "6f2647b4",
   "metadata": {},
   "outputs": [],
   "source": [
    "epochs = 230000"
   ]
  },
  {
   "cell_type": "code",
   "execution_count": null,
   "id": "9cad67fe",
   "metadata": {},
   "outputs": [
    {
     "name": "stdout",
     "output_type": "stream",
     "text": [
      "Loading 10.0%\n",
      "Loading 20.0%\n",
      "Loading 30.0%\n",
      "Loading 40.0%\n",
      "Loading 50.0%\n",
      "Loading 60.0%\n",
      "Loading 70.0%\n",
      "Loading 80.0%\n",
      "Loading 90.0%\n",
      "Loading 100.0%\n",
      "Learning process completed!!!\n"
     ]
    }
   ],
   "source": [
    "model.fit(X_train, y_train, X_val, y_val, learning_rate = 0.04, alpha = 0, epochs = epochs, lr_down=True, lr_decay=100)\n"
   ]
  },
  {
   "cell_type": "code",
   "execution_count": null,
   "id": "51522a30",
   "metadata": {},
   "outputs": [
    {
     "data": {
      "text/html": [
       "<div>\n",
       "<style scoped>\n",
       "    .dataframe tbody tr th:only-of-type {\n",
       "        vertical-align: middle;\n",
       "    }\n",
       "\n",
       "    .dataframe tbody tr th {\n",
       "        vertical-align: top;\n",
       "    }\n",
       "\n",
       "    .dataframe thead th {\n",
       "        text-align: right;\n",
       "    }\n",
       "</style>\n",
       "<table border=\"1\" class=\"dataframe\">\n",
       "  <thead>\n",
       "    <tr style=\"text-align: right;\">\n",
       "      <th></th>\n",
       "    </tr>\n",
       "  </thead>\n",
       "  <tbody>\n",
       "  </tbody>\n",
       "</table>\n",
       "</div>"
      ],
      "text/plain": [
       "Empty DataFrame\n",
       "Columns: []\n",
       "Index: []"
      ]
     },
     "execution_count": 125,
     "metadata": {},
     "output_type": "execute_result"
    }
   ],
   "source": [
    "pd.DataFrame()"
   ]
  },
  {
   "cell_type": "code",
   "execution_count": null,
   "id": "2f38c356",
   "metadata": {},
   "outputs": [
    {
     "data": {
      "text/plain": [
       "<matplotlib.legend.Legend at 0x1fc66171360>"
      ]
     },
     "execution_count": 126,
     "metadata": {},
     "output_type": "execute_result"
    },
    {
     "data": {
      "image/png": "[encoded data removed]",
      "text/plain": [
       "<Figure size 432x288 with 1 Axes>"
      ]
     },
     "metadata": {
      "needs_background": "light"
     },
     "output_type": "display_data"
    }
   ],
   "source": [
    "plt.plot(np.sqrt(model.cost_his), label = \"Train data\")\n",
    "plt.plot(np.sqrt(model.test_cost_his), label = \"Validate data\")\n",
    "# plt.xticks(np.arange(epo))\n",
    "plt.xlabel(\"Number of epochs\")  \n",
    "plt.ylabel(\"RMSE value\")\n",
    "plt.legend(loc=\"upper right\")"
   ]
  },
  {
   "cell_type": "code",
   "execution_count": null,
   "id": "3bce2d39",
   "metadata": {},
   "outputs": [
    {
     "name": "stdout",
     "output_type": "stream",
     "text": [
      "0.22492798547048679\n",
      "0.3274851838530633\n"
     ]
    }
   ],
   "source": [
    "print(np.sqrt(model.cost_his[-1]))\n",
    "print(np.sqrt(model.test_cost_his[-1]))"
   ]
  },
  {
   "cell_type": "code",
   "execution_count": null,
   "id": "9fb99e02",
   "metadata": {},
   "outputs": [
    {
     "data": {
      "image/png": "[encoded data removed]",
      "text/plain": [
       "<Figure size 432x288 with 1 Axes>"
      ]
     },
     "metadata": {
      "needs_background": "light"
     },
     "output_type": "display_data"
    }
   ],
   "source": [
    "ANN_pred = model.forward(X_test)\n",
    "plt.plot(ANN_pred[0,:].T, y_test[0,:].T, \"^\", label = \"Guaifenesin\", color = \"black\", fillstyle='none')\n",
    "plt.plot(ANN_pred[1,:].T, y_test[1,:].T, \"o\", label = \"Terbutaline Sulfate\", color = \"black\", fillstyle='none')\n",
    "plt.plot(ANN_pred[2,:].T, y_test[2,:].T, \"s\", label = \"Natri benzoate\", color = \"black\", fillstyle='none')\n",
    "plt.legend(bbox_to_anchor=(1, 1))\n",
    "plt.xlabel(\"Test data\")\n",
    "plt.ylabel(\"Predict data\")\n",
    "plt.xticks(np.arange(3.5, step=0.5))\n",
    "plt.yticks(np.arange(3.5, step=0.5))\n",
    "ax = plt.gca()\n",
    "ax.set_aspect('equal', adjustable='box')\n",
    "ax.plot([0, 1], [0, 1], transform=ax.transAxes, color = \"black\")\n",
    "plt.title(f\"Test - R square = {r2_score(y_test.T, ANN_pred.T)}\")\n",
    "plt.show()"
   ]
  },
  {
   "cell_type": "code",
   "execution_count": null,
   "id": "7577aed5",
   "metadata": {},
   "outputs": [
    {
     "data": {
      "image/png": "[encoded data removed]",
      "text/plain": [
       "<Figure size 432x288 with 1 Axes>"
      ]
     },
     "metadata": {
      "needs_background": "light"
     },
     "output_type": "display_data"
    }
   ],
   "source": [
    "y_pred = model.forward(X_train)\n",
    "# y_train.shape\n",
    "plt.plot(y_pred[0,:].T, y_train[0,:].T, \"^\", label = \"Guaifenesin\", color = \"black\", fillstyle='none')\n",
    "plt.plot(y_pred[1,:].T, y_train[1,:].T, \"o\", label = \"Terbutaline Sulfate\", color = \"black\", fillstyle='none')\n",
    "plt.plot(y_pred[2,:].T, y_train[2,:].T, \"s\", label = \"Natri benzoate\", color = \"black\", fillstyle='none')\n",
    "plt.legend(bbox_to_anchor=(1, 1))\n",
    "plt.xlabel(\"Train data\")\n",
    "plt.ylabel(\"Predict data\")\n",
    "plt.xticks(np.arange(3.5, step=0.5))\n",
    "plt.yticks(np.arange(3.5, step=0.5))\n",
    "ax = plt.gca()\n",
    "ax.set_aspect('equal', adjustable='box')\n",
    "ax.plot([0, 1], [0, 1], transform=ax.transAxes, color = \"black\")\n",
    "plt.title(f\"Train - R square = {r2_score(y_train.T, y_pred.T)}\")\n",
    "plt.show()"
   ]
  },
  {
   "cell_type": "code",
   "execution_count": null,
   "id": "c72ce4d6",
   "metadata": {},
   "outputs": [
    {
     "data": {
      "image/png": "[encoded data removed]",
      "text/plain": [
       "<Figure size 432x288 with 1 Axes>"
      ]
     },
     "metadata": {
      "needs_background": "light"
     },
     "output_type": "display_data"
    }
   ],
   "source": [
    "y_pred = model.forward(X_val)\n",
    "# y_val.shape\n",
    "plt.plot(y_pred[0,:].T, y_val[0,:].T, \"^\", label = \"Guaifenesin\", color = \"black\", fillstyle='none')\n",
    "plt.plot(y_pred[1,:].T, y_val[1,:].T, \"o\", label = \"Terbutaline Sulfate\", color = \"black\", fillstyle='none')\n",
    "plt.plot(y_pred[2,:].T, y_val[2,:].T, \"s\", label = \"Natri benzoate\", color = \"black\", fillstyle='none')\n",
    "plt.legend(bbox_to_anchor=(1, 1))\n",
    "plt.xlabel(\"Validate data\")\n",
    "plt.ylabel(\"Predict data\")\n",
    "plt.xticks(np.arange(3.5, step=0.5))\n",
    "plt.yticks(np.arange(3.5, step=0.5))\n",
    "ax = plt.gca()\n",
    "ax.set_aspect('equal', adjustable='box')\n",
    "ax.plot([0, 1], [0, 1], transform=ax.transAxes, color = \"black\")\n",
    "plt.title(f\"Validate - R square = {r2_score(y_val.T, y_pred.T)}\")\n",
    "plt.show()"
   ]
  },
  {
   "cell_type": "code",
   "execution_count": null,
   "id": "af1e870c",
   "metadata": {},
   "outputs": [],
   "source": [
    "mauthuoc = pd.read_excel(\"mauthuoc.xlsx\")\n",
    "mauthuoc = mauthuoc.iloc[:,1:].values / 10\n",
    "mauthuoc = mauthuoc.T"
   ]
  },
  {
   "cell_type": "code",
   "execution_count": null,
   "id": "0318e7cc",
   "metadata": {},
   "outputs": [
    {
     "data": {
      "text/plain": [
       "array([[4.18555825, 0.24022764, 1.14834709],\n",
       "       [4.18555825, 0.24022764, 1.14834709],\n",
       "       [4.18555825, 0.24022764, 1.14834709],\n",
       "       [4.18555825, 0.24022764, 1.14834709],\n",
       "       [4.18555825, 0.24022764, 1.14834709],\n",
       "       [4.18555825, 0.24022764, 1.14834709],\n",
       "       [4.18555825, 0.24022764, 1.14834709],\n",
       "       [4.18555825, 0.24022764, 1.14834709],\n",
       "       [4.18555825, 0.24022764, 1.14834709],\n",
       "       [4.18555825, 0.24022764, 1.14834709],\n",
       "       [4.18555825, 0.24022764, 1.14834709]])"
      ]
     },
     "execution_count": 132,
     "metadata": {},
     "output_type": "execute_result"
    }
   ],
   "source": [
    "model.forward(mauthuoc).T[:20, :] * 10\n",
    "# GF: 33.25\n",
    "# TBS: 0.75\n",
    "# NaB: 5"
   ]
  },
  {
   "cell_type": "code",
   "execution_count": null,
   "id": "7e2ad164",
   "metadata": {},
   "outputs": [
    {
     "data": {
      "text/html": [
       "<div>\n",
       "<style scoped>\n",
       "    .dataframe tbody tr th:only-of-type {\n",
       "        vertical-align: middle;\n",
       "    }\n",
       "\n",
       "    .dataframe tbody tr th {\n",
       "        vertical-align: top;\n",
       "    }\n",
       "\n",
       "    .dataframe thead th {\n",
       "        text-align: right;\n",
       "    }\n",
       "</style>\n",
       "<table border=\"1\" class=\"dataframe\">\n",
       "  <thead>\n",
       "    <tr style=\"text-align: right;\">\n",
       "      <th></th>\n",
       "      <th>0</th>\n",
       "      <th>1</th>\n",
       "      <th>2</th>\n",
       "      <th>3</th>\n",
       "      <th>4</th>\n",
       "      <th>5</th>\n",
       "      <th>6</th>\n",
       "      <th>7</th>\n",
       "      <th>8</th>\n",
       "    </tr>\n",
       "  </thead>\n",
       "  <tbody>\n",
       "    <tr>\n",
       "      <th>0</th>\n",
       "      <td>8.0</td>\n",
       "      <td>25.6</td>\n",
       "      <td>20.0</td>\n",
       "      <td>10.989070</td>\n",
       "      <td>24.683757</td>\n",
       "      <td>21.801563</td>\n",
       "      <td>7.696417</td>\n",
       "      <td>25.135077</td>\n",
       "      <td>23.082590</td>\n",
       "    </tr>\n",
       "    <tr>\n",
       "      <th>1</th>\n",
       "      <td>5.6</td>\n",
       "      <td>18.4</td>\n",
       "      <td>20.8</td>\n",
       "      <td>8.119092</td>\n",
       "      <td>20.323229</td>\n",
       "      <td>20.171227</td>\n",
       "      <td>4.479608</td>\n",
       "      <td>21.279144</td>\n",
       "      <td>21.792595</td>\n",
       "    </tr>\n",
       "    <tr>\n",
       "      <th>2</th>\n",
       "      <td>29.6</td>\n",
       "      <td>1.6</td>\n",
       "      <td>11.2</td>\n",
       "      <td>32.766270</td>\n",
       "      <td>22.465135</td>\n",
       "      <td>18.748346</td>\n",
       "      <td>29.668340</td>\n",
       "      <td>21.865938</td>\n",
       "      <td>19.034990</td>\n",
       "    </tr>\n",
       "    <tr>\n",
       "      <th>3</th>\n",
       "      <td>20.8</td>\n",
       "      <td>12.8</td>\n",
       "      <td>14.4</td>\n",
       "      <td>23.695162</td>\n",
       "      <td>12.340803</td>\n",
       "      <td>14.355736</td>\n",
       "      <td>20.224122</td>\n",
       "      <td>15.947589</td>\n",
       "      <td>14.940774</td>\n",
       "    </tr>\n",
       "    <tr>\n",
       "      <th>4</th>\n",
       "      <td>0.0</td>\n",
       "      <td>0.0</td>\n",
       "      <td>0.0</td>\n",
       "      <td>3.159916</td>\n",
       "      <td>1.516749</td>\n",
       "      <td>-1.985880</td>\n",
       "      <td>0.166111</td>\n",
       "      <td>0.176588</td>\n",
       "      <td>0.183454</td>\n",
       "    </tr>\n",
       "    <tr>\n",
       "      <th>5</th>\n",
       "      <td>4.8</td>\n",
       "      <td>16.8</td>\n",
       "      <td>2.4</td>\n",
       "      <td>6.752762</td>\n",
       "      <td>21.221964</td>\n",
       "      <td>3.607982</td>\n",
       "      <td>4.633845</td>\n",
       "      <td>17.876479</td>\n",
       "      <td>2.130939</td>\n",
       "    </tr>\n",
       "    <tr>\n",
       "      <th>6</th>\n",
       "      <td>21.6</td>\n",
       "      <td>30.4</td>\n",
       "      <td>0.0</td>\n",
       "      <td>24.658491</td>\n",
       "      <td>30.321944</td>\n",
       "      <td>-0.447245</td>\n",
       "      <td>21.462574</td>\n",
       "      <td>30.311239</td>\n",
       "      <td>0.150031</td>\n",
       "    </tr>\n",
       "    <tr>\n",
       "      <th>7</th>\n",
       "      <td>24.8</td>\n",
       "      <td>25.6</td>\n",
       "      <td>20.0</td>\n",
       "      <td>27.412219</td>\n",
       "      <td>27.527115</td>\n",
       "      <td>22.322619</td>\n",
       "      <td>25.030033</td>\n",
       "      <td>24.338422</td>\n",
       "      <td>22.277313</td>\n",
       "    </tr>\n",
       "    <tr>\n",
       "      <th>8</th>\n",
       "      <td>0.0</td>\n",
       "      <td>0.0</td>\n",
       "      <td>0.0</td>\n",
       "      <td>2.144657</td>\n",
       "      <td>2.084344</td>\n",
       "      <td>0.348605</td>\n",
       "      <td>0.089131</td>\n",
       "      <td>0.222471</td>\n",
       "      <td>0.106090</td>\n",
       "    </tr>\n",
       "    <tr>\n",
       "      <th>9</th>\n",
       "      <td>30.4</td>\n",
       "      <td>6.4</td>\n",
       "      <td>10.4</td>\n",
       "      <td>33.015390</td>\n",
       "      <td>7.981194</td>\n",
       "      <td>13.928546</td>\n",
       "      <td>30.649956</td>\n",
       "      <td>8.871984</td>\n",
       "      <td>10.203887</td>\n",
       "    </tr>\n",
       "    <tr>\n",
       "      <th>10</th>\n",
       "      <td>8.0</td>\n",
       "      <td>9.6</td>\n",
       "      <td>14.4</td>\n",
       "      <td>11.400932</td>\n",
       "      <td>9.597396</td>\n",
       "      <td>14.584826</td>\n",
       "      <td>9.148485</td>\n",
       "      <td>9.844746</td>\n",
       "      <td>11.906141</td>\n",
       "    </tr>\n",
       "    <tr>\n",
       "      <th>11</th>\n",
       "      <td>28.8</td>\n",
       "      <td>12.8</td>\n",
       "      <td>10.4</td>\n",
       "      <td>31.501548</td>\n",
       "      <td>14.934883</td>\n",
       "      <td>11.027981</td>\n",
       "      <td>28.697408</td>\n",
       "      <td>14.836493</td>\n",
       "      <td>10.978808</td>\n",
       "    </tr>\n",
       "    <tr>\n",
       "      <th>12</th>\n",
       "      <td>12.0</td>\n",
       "      <td>0.0</td>\n",
       "      <td>15.2</td>\n",
       "      <td>14.486866</td>\n",
       "      <td>1.251257</td>\n",
       "      <td>17.244448</td>\n",
       "      <td>11.805235</td>\n",
       "      <td>1.457902</td>\n",
       "      <td>16.515330</td>\n",
       "    </tr>\n",
       "    <tr>\n",
       "      <th>13</th>\n",
       "      <td>0.0</td>\n",
       "      <td>13.6</td>\n",
       "      <td>6.4</td>\n",
       "      <td>2.176700</td>\n",
       "      <td>17.078436</td>\n",
       "      <td>6.161625</td>\n",
       "      <td>-0.261274</td>\n",
       "      <td>14.463707</td>\n",
       "      <td>5.989014</td>\n",
       "    </tr>\n",
       "    <tr>\n",
       "      <th>14</th>\n",
       "      <td>19.2</td>\n",
       "      <td>14.4</td>\n",
       "      <td>0.8</td>\n",
       "      <td>22.542237</td>\n",
       "      <td>14.692024</td>\n",
       "      <td>1.365518</td>\n",
       "      <td>18.875949</td>\n",
       "      <td>14.233440</td>\n",
       "      <td>1.375278</td>\n",
       "    </tr>\n",
       "    <tr>\n",
       "      <th>15</th>\n",
       "      <td>9.6</td>\n",
       "      <td>21.6</td>\n",
       "      <td>16.8</td>\n",
       "      <td>11.620259</td>\n",
       "      <td>23.547005</td>\n",
       "      <td>19.343357</td>\n",
       "      <td>9.663170</td>\n",
       "      <td>23.999925</td>\n",
       "      <td>18.403767</td>\n",
       "    </tr>\n",
       "    <tr>\n",
       "      <th>16</th>\n",
       "      <td>5.6</td>\n",
       "      <td>22.4</td>\n",
       "      <td>8.0</td>\n",
       "      <td>10.003112</td>\n",
       "      <td>24.238903</td>\n",
       "      <td>7.273706</td>\n",
       "      <td>6.424371</td>\n",
       "      <td>21.872698</td>\n",
       "      <td>7.874652</td>\n",
       "    </tr>\n",
       "    <tr>\n",
       "      <th>17</th>\n",
       "      <td>6.4</td>\n",
       "      <td>15.2</td>\n",
       "      <td>9.6</td>\n",
       "      <td>9.764720</td>\n",
       "      <td>14.499833</td>\n",
       "      <td>7.472053</td>\n",
       "      <td>6.354450</td>\n",
       "      <td>15.878673</td>\n",
       "      <td>8.668495</td>\n",
       "    </tr>\n",
       "    <tr>\n",
       "      <th>18</th>\n",
       "      <td>12.0</td>\n",
       "      <td>18.4</td>\n",
       "      <td>20.0</td>\n",
       "      <td>15.556551</td>\n",
       "      <td>19.368180</td>\n",
       "      <td>19.023132</td>\n",
       "      <td>12.956657</td>\n",
       "      <td>19.125037</td>\n",
       "      <td>19.620069</td>\n",
       "    </tr>\n",
       "    <tr>\n",
       "      <th>19</th>\n",
       "      <td>7.2</td>\n",
       "      <td>19.2</td>\n",
       "      <td>23.2</td>\n",
       "      <td>10.737890</td>\n",
       "      <td>19.701819</td>\n",
       "      <td>23.665469</td>\n",
       "      <td>7.203340</td>\n",
       "      <td>21.682609</td>\n",
       "      <td>22.544885</td>\n",
       "    </tr>\n",
       "  </tbody>\n",
       "</table>\n",
       "</div>"
      ],
      "text/plain": [
       "       0     1     2          3          4          5          6          7  \\\n",
       "0    8.0  25.6  20.0  10.989070  24.683757  21.801563   7.696417  25.135077   \n",
       "1    5.6  18.4  20.8   8.119092  20.323229  20.171227   4.479608  21.279144   \n",
       "2   29.6   1.6  11.2  32.766270  22.465135  18.748346  29.668340  21.865938   \n",
       "3   20.8  12.8  14.4  23.695162  12.340803  14.355736  20.224122  15.947589   \n",
       "4    0.0   0.0   0.0   3.159916   1.516749  -1.985880   0.166111   0.176588   \n",
       "5    4.8  16.8   2.4   6.752762  21.221964   3.607982   4.633845  17.876479   \n",
       "6   21.6  30.4   0.0  24.658491  30.321944  -0.447245  21.462574  30.311239   \n",
       "7   24.8  25.6  20.0  27.412219  27.527115  22.322619  25.030033  24.338422   \n",
       "8    0.0   0.0   0.0   2.144657   2.084344   0.348605   0.089131   0.222471   \n",
       "9   30.4   6.4  10.4  33.015390   7.981194  13.928546  30.649956   8.871984   \n",
       "10   8.0   9.6  14.4  11.400932   9.597396  14.584826   9.148485   9.844746   \n",
       "11  28.8  12.8  10.4  31.501548  14.934883  11.027981  28.697408  14.836493   \n",
       "12  12.0   0.0  15.2  14.486866   1.251257  17.244448  11.805235   1.457902   \n",
       "13   0.0  13.6   6.4   2.176700  17.078436   6.161625  -0.261274  14.463707   \n",
       "14  19.2  14.4   0.8  22.542237  14.692024   1.365518  18.875949  14.233440   \n",
       "15   9.6  21.6  16.8  11.620259  23.547005  19.343357   9.663170  23.999925   \n",
       "16   5.6  22.4   8.0  10.003112  24.238903   7.273706   6.424371  21.872698   \n",
       "17   6.4  15.2   9.6   9.764720  14.499833   7.472053   6.354450  15.878673   \n",
       "18  12.0  18.4  20.0  15.556551  19.368180  19.023132  12.956657  19.125037   \n",
       "19   7.2  19.2  23.2  10.737890  19.701819  23.665469   7.203340  21.682609   \n",
       "\n",
       "            8  \n",
       "0   23.082590  \n",
       "1   21.792595  \n",
       "2   19.034990  \n",
       "3   14.940774  \n",
       "4    0.183454  \n",
       "5    2.130939  \n",
       "6    0.150031  \n",
       "7   22.277313  \n",
       "8    0.106090  \n",
       "9   10.203887  \n",
       "10  11.906141  \n",
       "11  10.978808  \n",
       "12  16.515330  \n",
       "13   5.989014  \n",
       "14   1.375278  \n",
       "15  18.403767  \n",
       "16   7.874652  \n",
       "17   8.668495  \n",
       "18  19.620069  \n",
       "19  22.544885  "
      ]
     },
     "execution_count": 133,
     "metadata": {},
     "output_type": "execute_result"
    }
   ],
   "source": [
    "df = np.concatenate([y_test.T[:20,:]*10, PCR_preds[:20,:]*10, ANN_pred.T[:20,:] * 10],axis=1)\n",
    "# pd.DataFrame(df).to_excel(\"Mauthuc2.xlsx\")\n",
    "pd.DataFrame(df)"
   ]
  },
  {
   "cell_type": "code",
   "execution_count": null,
   "id": "b00a58f1",
   "metadata": {},
   "outputs": [],
   "source": [
    "# weights = pickle.load( open( 'weights.pkl' , 'rb' ))\n",
    "# bias = pickle.load( open( 'bias.pkl' , 'rb' ))"
   ]
  },
  {
   "cell_type": "code",
   "execution_count": null,
   "id": "4755f5c9",
   "metadata": {},
   "outputs": [],
   "source": [
    "# model2 = ANN_pkg_2.Neural_Network([X_train.shape[0],8, 8,y_train.shape[0]], ANN_pkg_2.ReLU, weights, bias)"
   ]
  },
  {
   "cell_type": "code",
   "execution_count": null,
   "id": "4a766c9e",
   "metadata": {},
   "outputs": [],
   "source": [
    "# model2.forward(X_test).T * 10"
   ]
  }
 ],
 "metadata": {
  "kernelspec": {
   "display_name": "Python 3",
   "language": "python",
   "name": "python3"
  },
  "language_info": {
   "codemirror_mode": {
    "name": "ipython",
    "version": 3
   },
   "file_extension": ".py",
   "mimetype": "text/x-python",
   "name": "python",
   "nbconvert_exporter": "python",
   "pygments_lexer": "ipython3",
   "version": "3.10.6"
  },
  "vscode": {
   "interpreter": {
    "hash": "1658d7c139ecb4375ab76a4a9bda7b71499aefd554bc284ea3c47687afb5394a"
   }
  }
 },
 "nbformat": 4,
 "nbformat_minor": 5
}
